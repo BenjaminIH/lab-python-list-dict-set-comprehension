{
 "cells": [
  {
   "cell_type": "markdown",
   "id": "25d7736c-ba17-4aff-b6bb-66eba20fbf4e",
   "metadata": {},
   "source": [
    "# Lab | List, Dict and Set Comprehension"
   ]
  },
  {
   "cell_type": "markdown",
   "id": "7dd3cbde-675a-4b81-92c3-f728846dbe06",
   "metadata": {},
   "source": [
    "## Exercise: Managing Customer Orders Optimized with Comprehension"
   ]
  },
  {
   "cell_type": "markdown",
   "id": "5d500160-2fb7-4777-b5e4-09d45ebaf328",
   "metadata": {},
   "source": [
    "In the previous exercise, you developed a program to manage customer orders and inventory. Now, let's take it a step further and incorporate comprehension into your code.\n",
    "\n",
    "Follow the steps below to complete the exercise:\n",
    "\n",
    "1. Review your code from the previous exercise and identify areas where you can apply comprehension to simplify and streamline your code. \n",
    "\n",
    "    - *Hint: Apply it to initialize inventory, updating the inventory and printing the updated inventory.*\n",
    "    \n",
    "    - For example, in initializing the inventory, we could have:\n",
    "    \n",
    "        ```python\n",
    "        def initialize_inventory(products):\n",
    "            inventory = {product: int(input(f\"Enter the quantity of {product}s available: \")) for product in products}\n",
    "            return inventory\n",
    "\n",
    "        ```\n",
    "<br>\n",
    "    \n",
    "    \n",
    "2. Modify the function get_customer_orders so it prompts the user to enter the number of customer orders and gathers the product names using a loop and user input. Use comprehension.\n",
    "\n",
    "3. Add a new function to calculate the total price of the customer order. For each product in customer_orders, prompt the user to enter the price of that product. Use comprehension to calculate the total price. Note: assume that the user can only have 1 unit of each product.\n",
    "\n",
    "4. Modify the update_inventory function to remove the product from the inventory if its quantity becomes zero after fulfilling the customer orders. Use comprehension to filter out the products with a quantity of zero from the inventory.\n",
    "\n",
    "5. Print the total price of the customer order.\n",
    "\n",
    "Your code should produce output similar to the following:\n",
    "\n",
    "```python\n",
    "Enter the quantity of t-shirts available:  5\n",
    "Enter the quantity of mugs available:  4\n",
    "Enter the quantity of hats available:  3\n",
    "Enter the quantity of books available:  2\n",
    "Enter the quantity of keychains available:  1\n",
    "Enter the number of customer orders:  2\n",
    "Enter the name of a product that a customer wants to order:  hat\n",
    "Enter the name of a product that a customer wants to order:  keychain\n",
    "\n",
    "Order Statistics:\n",
    "Total Products Ordered: 2\n",
    "Percentage of Unique Products Ordered: 40.0\n",
    "\n",
    "Updated Inventory:\n",
    "t-shirt: 5\n",
    "mug: 4\n",
    "hat: 2\n",
    "book: 2\n",
    "Enter the price of keychain:  5\n",
    "Enter the price of hat:  10\n",
    "Total Price: 15.0\n",
    "\n",
    "```\n"
   ]
  },
  {
   "cell_type": "code",
   "execution_count": 16,
   "id": "6766a5c1-1a68-4f94-8a3c-ab928c6bf5ac",
   "metadata": {},
   "outputs": [
    {
     "name": "stdin",
     "output_type": "stream",
     "text": [
      "Enter the quantity for t-shirt available:  5\n"
     ]
    },
    {
     "ename": "TypeError",
     "evalue": "unhashable type: 'list'",
     "output_type": "error",
     "traceback": [
      "\u001b[1;31m---------------------------------------------------------------------------\u001b[0m",
      "\u001b[1;31mTypeError\u001b[0m                                 Traceback (most recent call last)",
      "Cell \u001b[1;32mIn[16], line 50\u001b[0m\n\u001b[0;32m     47\u001b[0m     \u001b[38;5;28;01mreturn\u001b[39;00m \u001b[38;5;28msum\u001b[39m(total_price)\n\u001b[0;32m     49\u001b[0m \u001b[38;5;66;03m#init inventory\u001b[39;00m\n\u001b[1;32m---> 50\u001b[0m inventory \u001b[38;5;241m=\u001b[39m initialize_inventory(products)\n\u001b[0;32m     51\u001b[0m \u001b[38;5;66;03m#get customer orders\u001b[39;00m\n\u001b[0;32m     52\u001b[0m customer_orders \u001b[38;5;241m=\u001b[39m get_customer_orders()\n",
      "Cell \u001b[1;32mIn[16], line 6\u001b[0m, in \u001b[0;36minitialize_inventory\u001b[1;34m(products)\u001b[0m\n\u001b[0;32m      5\u001b[0m \u001b[38;5;28;01mdef\u001b[39;00m \u001b[38;5;21minitialize_inventory\u001b[39m(products):\n\u001b[1;32m----> 6\u001b[0m     inventory \u001b[38;5;241m=\u001b[39m {products: \u001b[38;5;28mint\u001b[39m(\u001b[38;5;28minput\u001b[39m(\u001b[38;5;124mf\u001b[39m\u001b[38;5;124m\"\u001b[39m\u001b[38;5;124mEnter the quantity for \u001b[39m\u001b[38;5;132;01m{\u001b[39;00mproduct\u001b[38;5;132;01m}\u001b[39;00m\u001b[38;5;124m available: \u001b[39m\u001b[38;5;124m\"\u001b[39m)) \u001b[38;5;28;01mfor\u001b[39;00m product \u001b[38;5;129;01min\u001b[39;00m products}\n\u001b[0;32m      8\u001b[0m     \u001b[38;5;28;01mreturn\u001b[39;00m inventory\n",
      "\u001b[1;31mTypeError\u001b[0m: unhashable type: 'list'"
     ]
    }
   ],
   "source": [
    "products = [\"t-shirt\", \"mug\", \"hat\", \"book\", \"keychain\"]\n",
    "\n",
    "#step 1: initiliaze inventory:\n",
    "\n",
    "def initialize_inventory(products):\n",
    "    inventory = {products: int(input(f\"Enter the quantity for {product} available: \")) for product in products}\n",
    "    \n",
    "    return inventory\n",
    "\n",
    "# step 2: getting customer orders:\n",
    "\n",
    "def get_customer_orders():\n",
    "    num_orders = int(input(\"Enter the number of customer orders: \"))\n",
    "    return {input(\"Enter the name of a product that a customer wants to order: \") for i in range (num_orders)}\n",
    "\n",
    "#step 3: updating the inventory:\n",
    "\n",
    "def update_inventory(customer_orders, inventory):\n",
    "    inventory = {product: inventory[product]-1 if product in customer_orders else inventory[product] for product in inventory}\n",
    "    inventory = {product: quantity for product, quantity in inventory.tiems() if quantity >0}\n",
    "    return inventory\n",
    "    \n",
    "#step 4: define order statistics:\n",
    "\n",
    "def calculate_order_statistics(customer_orders, products):\n",
    "    total_products_ordered = len(customer_orders)\n",
    "    percentage_order = (total_products_ordered/len(products))*100\n",
    "    return total_products_ordered, percentage_order\n",
    "\n",
    "#step 5: printing order statistics:\n",
    "\n",
    "def print_order_statistics(order_statistics):\n",
    "    print(\"Order statistics: \")\n",
    "    print(\"Total products ordered: \", order_statistics[0])\n",
    "    [print(\"Percentage of unique products ordered: \"), order_statistics[1]]\n",
    "\n",
    "#step 6: printing updated inventory:\n",
    "\n",
    "def print_updated_inventory(inventory):\n",
    "    print(\"Updated inventory: \")\n",
    "    [print(f\"{product} : {quantity}\") for product, quantity in inventory.items()]\n",
    "\n",
    "#step 7: calculating total price:\n",
    "\n",
    "def calculate_total_price(customer_orders):\n",
    "    total_price = [float(input(f\"Enter the price of {product}: \")) for product in customer_orders]\n",
    "    return sum(total_price)\n",
    "\n",
    "#init inventory\n",
    "inventory = initialize_inventory(products)\n",
    "#get customer orders\n",
    "customer_orders = get_customer_orders()\n",
    "#update the inventory having into consideration customer order\n",
    "inventory = update_inventory(customer_order, inventory)\n",
    "#calculate stats\n",
    "order_statistics = calculate_order_statistics(customer_orders, products)\n",
    "#print stats\n",
    "print_order_statistics(order_statistics)\n",
    "#print inventory                      \n",
    "print_updated_inventory(inventory)\n",
    "#calculate the price\n",
    "total_price = calculate_total_price(customer_orders)\n",
    "print(\"Total price is : \", total_price)\n"
   ]
  },
  {
   "cell_type": "code",
   "execution_count": null,
   "id": "358e1577-006e-4dd1-b78b-94c0c423b50e",
   "metadata": {},
   "outputs": [],
   "source": []
  },
  {
   "cell_type": "code",
   "execution_count": null,
   "id": "0dafde86-4259-4b68-86f1-adcffd92246f",
   "metadata": {},
   "outputs": [],
   "source": []
  }
 ],
 "metadata": {
  "kernelspec": {
   "display_name": "Python 3 (ipykernel)",
   "language": "python",
   "name": "python3"
  },
  "language_info": {
   "codemirror_mode": {
    "name": "ipython",
    "version": 3
   },
   "file_extension": ".py",
   "mimetype": "text/x-python",
   "name": "python",
   "nbconvert_exporter": "python",
   "pygments_lexer": "ipython3",
   "version": "3.12.4"
  }
 },
 "nbformat": 4,
 "nbformat_minor": 5
}
